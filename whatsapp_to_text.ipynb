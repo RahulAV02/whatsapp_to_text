{
  "nbformat": 4,
  "nbformat_minor": 0,
  "metadata": {
    "colab": {
      "provenance": []
    },
    "kernelspec": {
      "name": "python3",
      "display_name": "Python 3"
    },
    "language_info": {
      "name": "python"
    }
  },
  "cells": [
    {
      "cell_type": "code",
      "source": [
        "pip install pushbullet.py"
      ],
      "metadata": {
        "colab": {
          "base_uri": "https://localhost:8080/"
        },
        "id": "WBEeXaqhEj2Q",
        "outputId": "dd9bf241-b628-4354-d792-1351c7bda8c0"
      },
      "execution_count": null,
      "outputs": [
        {
          "output_type": "stream",
          "name": "stdout",
          "text": [
            "Looking in indexes: https://pypi.org/simple, https://us-python.pkg.dev/colab-wheels/public/simple/\n",
            "Requirement already satisfied: pushbullet.py in /usr/local/lib/python3.8/dist-packages (0.12.0)\n",
            "Requirement already satisfied: python-magic in /usr/local/lib/python3.8/dist-packages (from pushbullet.py) (0.4.27)\n",
            "Requirement already satisfied: requests>=1.0.0 in /usr/local/lib/python3.8/dist-packages (from pushbullet.py) (2.25.1)\n",
            "Requirement already satisfied: websocket-client>=0.53.0 in /usr/local/lib/python3.8/dist-packages (from pushbullet.py) (1.4.2)\n",
            "Requirement already satisfied: urllib3<1.27,>=1.21.1 in /usr/local/lib/python3.8/dist-packages (from requests>=1.0.0->pushbullet.py) (1.24.3)\n",
            "Requirement already satisfied: certifi>=2017.4.17 in /usr/local/lib/python3.8/dist-packages (from requests>=1.0.0->pushbullet.py) (2022.12.7)\n",
            "Requirement already satisfied: idna<3,>=2.5 in /usr/local/lib/python3.8/dist-packages (from requests>=1.0.0->pushbullet.py) (2.10)\n",
            "Requirement already satisfied: chardet<5,>=3.0.2 in /usr/local/lib/python3.8/dist-packages (from requests>=1.0.0->pushbullet.py) (4.0.0)\n"
          ]
        }
      ]
    },
    {
      "cell_type": "code",
      "source": [
        "pip install pandas openpyxl"
      ],
      "metadata": {
        "colab": {
          "base_uri": "https://localhost:8080/"
        },
        "id": "nHjFyvL1Ere-",
        "outputId": "b7719524-9bca-4be3-cd23-07f6de8ba331"
      },
      "execution_count": null,
      "outputs": [
        {
          "output_type": "stream",
          "name": "stdout",
          "text": [
            "Looking in indexes: https://pypi.org/simple, https://us-python.pkg.dev/colab-wheels/public/simple/\n",
            "Requirement already satisfied: pandas in /usr/local/lib/python3.8/dist-packages (1.3.5)\n",
            "Requirement already satisfied: openpyxl in /usr/local/lib/python3.8/dist-packages (3.0.10)\n",
            "Requirement already satisfied: python-dateutil>=2.7.3 in /usr/local/lib/python3.8/dist-packages (from pandas) (2.8.2)\n",
            "Requirement already satisfied: pytz>=2017.3 in /usr/local/lib/python3.8/dist-packages (from pandas) (2022.7)\n",
            "Requirement already satisfied: numpy>=1.17.3 in /usr/local/lib/python3.8/dist-packages (from pandas) (1.21.6)\n",
            "Requirement already satisfied: et-xmlfile in /usr/local/lib/python3.8/dist-packages (from openpyxl) (1.1.0)\n",
            "Requirement already satisfied: six>=1.5 in /usr/local/lib/python3.8/dist-packages (from python-dateutil>=2.7.3->pandas) (1.15.0)\n"
          ]
        }
      ]
    },
    {
      "cell_type": "code",
      "execution_count": null,
      "metadata": {
        "id": "L2I_Im_ZDFPy"
      },
      "outputs": [],
      "source": [
        "import urllib.request\n",
        "import os\n",
        "\n",
        "import pandas as pd\n",
        "\n",
        "from pushbullet import Pushbullet\n",
        "\n",
        "\n",
        "# API KEY PushBullet (https://www.pushbullet.com/)\n",
        "API_KEY = \"o.6ZjbBTw3tH85O7V49T1v7MgS4cz7BFNQ\"\n",
        "\n",
        "\n",
        "\n"
      ]
    },
    {
      "cell_type": "code",
      "source": [
        "# Get Link to Chatfile from Pushbullet\n",
        "pb = Pushbullet(API_KEY)\n",
        "pushes = pb.get_pushes()\n",
        "latest = pushes[0]"
      ],
      "metadata": {
        "id": "YNOf-JTSH3QU"
      },
      "execution_count": null,
      "outputs": []
    },
    {
      "cell_type": "code",
      "source": [
        "# Download Chatfile\n",
        "url =  \"https://dl3.pushbulletusercontent.com/NqOxqy48DCQd8kiku75muevFZaU6Id2K/fc57f1d3-9f93-4776-bca6-5c19ff7c68e1\"\n",
        "file_path = \"chat.txt\"\n",
        "urllib.request.urlretrieve(url, file_path)"
      ],
      "metadata": {
        "colab": {
          "base_uri": "https://localhost:8080/"
        },
        "id": "0mtT6rk3H3Ks",
        "outputId": "312a49e0-99e4-416f-aa79-d198b5fd7ba5"
      },
      "execution_count": null,
      "outputs": [
        {
          "output_type": "execute_result",
          "data": {
            "text/plain": [
              "('chat.txt', <http.client.HTTPMessage at 0x7fa186776e20>)"
            ]
          },
          "metadata": {},
          "execution_count": 25
        }
      ]
    },
    {
      "cell_type": "code",
      "source": [
        "# read file by lines\n",
        "with open(file_path, mode='r', encoding=\"utf8\") as f:\n",
        "    data = f.readlines()"
      ],
      "metadata": {
        "id": "H7JGF2laIEKI"
      },
      "execution_count": null,
      "outputs": []
    },
    {
      "cell_type": "code",
      "source": [
        "data"
      ],
      "metadata": {
        "colab": {
          "base_uri": "https://localhost:8080/"
        },
        "id": "iQrO_8U2IJJa",
        "outputId": "fa55d73c-11f6-42ef-a5aa-1132af79effd"
      },
      "execution_count": null,
      "outputs": [
        {
          "output_type": "execute_result",
          "data": {
            "text/plain": [
              "['30/12/22, 3:16\\u202fpm - Messages and calls are end-to-end encrypted. No one outside of this chat, not even WhatsApp, can read or listen to them. Tap to learn more.\\n',\n",
              " '30/12/22, 5:58\\u202fpm - Rahul: <Media omitted>\\n',\n",
              " '30/12/22, 5:58\\u202fpm - Rahul: Story podu nalatha\\n',\n",
              " '30/12/22, 6:04\\u202fpm - Nithin Cit: <Media omitted>\\n',\n",
              " '30/12/22, 6:07\\u202fpm - Rahul: Yaruda ivan\\n',\n",
              " '30/12/22, 6:07\\u202fpm - Rahul: Male\\n',\n",
              " '30/12/22, 6:07\\u202fpm - Rahul: Maalee\\n',\n",
              " '30/12/22, 9:30\\u202fpm - Rahul: Ask mam to add in training grp\\n',\n",
              " '30/12/22, 9:31\\u202fpm - Nithin Cit: Hairuu\\n',\n",
              " '30/12/22, 9:31\\u202fpm - Nithin Cit: Nee kelu da\\n',\n",
              " '31/12/22, 5:15\\u202fpm - Rahul: You deleted this message\\n',\n",
              " '31/12/22, 6:20\\u202fpm - Nithin Cit: Bro call\\n',\n",
              " '31/12/22, 8:17\\u202fpm - Rahul: Bro\\n',\n",
              " '31/12/22, 8:17\\u202fpm - Rahul: Tomorrow ena bro?\\n',\n",
              " '31/12/22, 8:22\\u202fpm - Nithin Cit: Macha Mrng itself poro da\\n',\n",
              " '31/12/22, 8:22\\u202fpm - Nithin Cit: Namma vera oru nalu polam\\n',\n",
              " '31/12/22, 8:24\\u202fpm - Rahul: Ok\\n',\n",
              " '31/12/22, 8:25\\u202fpm - Nithin Cit: Bro\\n',\n",
              " '31/12/22, 8:25\\u202fpm - Nithin Cit: Cod\\n',\n",
              " '31/12/22, 8:25\\u202fpm - Nithin Cit: Va\\n',\n",
              " '31/12/22, 9:20\\u202fpm - Rahul: Naa thungura mame\\n',\n",
              " '31/12/22, 9:20\\u202fpm - Rahul: Happy new year\\n',\n",
              " '31/12/22, 9:44\\u202fpm - Nithin Cit: Happy new year bro \\U0001fac2\\n',\n",
              " '01/01/23, 5:39\\u202fam - Rahul: Happiest new year bro\\n',\n",
              " '01/01/23, 2:40\\u202fpm - Nithin Cit: Bro\\n',\n",
              " '01/01/23, 2:40\\u202fpm - Nithin Cit: Va da\\n',\n",
              " '01/01/23, 2:41\\u202fpm - Rahul: Mame kadaiku pora\\n',\n",
              " '01/01/23, 2:41\\u202fpm - Nithin Cit: Ah daom\\n',\n",
              " '01/01/23, 2:41\\u202fpm - Nithin Cit: Ok\\n',\n",
              " '02/01/23, 10:50\\u202fam - Rahul: Lunch la call panu\\n',\n",
              " '02/01/23, 10:51\\u202fam - Nithin Cit: Ok da\\n',\n",
              " '02/01/23, 11:10\\u202fam - Rahul: Jolly ah iruku\\n',\n",
              " '02/01/23, 11:10\\u202fam - Rahul: Canteen la than irunthom\\n',\n",
              " '02/01/23, 11:10\\u202fam - Rahul: Ipo ilp la irukum\\n',\n",
              " '02/01/23, 11:10\\u202fam - Rahul: Roaming everywhere\\n',\n",
              " '02/01/23, 11:30\\u202fam - Nithin Cit: Daiii\\n',\n",
              " '02/01/23, 11:43\\u202fam - Nithin Cit: Kadupa eruku da\\n',\n",
              " '02/01/23, 11:49\\u202fam - Rahul: 😂\\n',\n",
              " '02/01/23, 12:02\\u202fpm - Rahul: What happened?\\n',\n",
              " '02/01/23, 12:03\\u202fpm - Nithin Cit: Fuck da\\n',\n",
              " '02/01/23, 12:04\\u202fpm - Nithin Cit: Soft skill da 🤦🏻\\u200d♂️\\n',\n",
              " '02/01/23, 12:05\\u202fpm - Nithin Cit: Oru hour erukan nala escape ayiten\\n',\n",
              " '02/01/23, 12:15\\u202fpm - Rahul: Where r u\\n',\n",
              " '02/01/23, 12:16\\u202fpm - Nithin Cit: Middle of row da\\n',\n",
              " '02/01/23, 12:18\\u202fpm - Rahul: Oh\\n',\n",
              " '02/01/23, 12:18\\u202fpm - Nithin Cit: Nee enga eruka\\n',\n",
              " '02/01/23, 12:19\\u202fpm - Rahul: Sleeping da\\n',\n",
              " '02/01/23, 12:19\\u202fpm - Rahul: <Media omitted>\\n',\n",
              " '02/01/23, 12:53\\u202fpm - Nithin Cit: Macha\\n',\n",
              " '02/01/23, 12:53\\u202fpm - Nithin Cit: Enga eruka\\n',\n",
              " '02/01/23, 1:05\\u202fpm - Rahul: Wru\\n',\n",
              " '02/01/23, 8:06\\u202fpm - Nithin Cit: Macha\\n',\n",
              " '02/01/23, 8:07\\u202fpm - Nithin Cit: 480 da per person share\\n',\n",
              " '03/01/23, 9:29\\u202fam - Nithin Cit: Bro\\n',\n",
              " '03/01/23, 9:29\\u202fam - Nithin Cit: Break va da\\n',\n",
              " '03/01/23, 3:33\\u202fpm - Nithin Cit: https://twitter.com/Tech_glareOffl/status/1609957039824080896?t=KKKb_ebb0I3ub-o38ec-lg&s=08\\n',\n",
              " '03/01/23, 3:44\\u202fpm - Rahul: Super\\n',\n",
              " '04/01/23, 8:05\\u202fpm - Nithin Cit: https://chat.whatsapp.com/BYQZmqbFY8v6EOILYtjtOr\\n',\n",
              " '\\n',\n",
              " 'Share to all CSE general training students\\n',\n",
              " '04/01/23, 8:17\\u202fpm - Rahul: <Media omitted>\\n',\n",
              " '04/01/23, 8:18\\u202fpm - Nithin Cit: 😂😂\\n',\n",
              " '04/01/23, 8:18\\u202fpm - Nithin Cit: Sry dude mathi anapiten\\n',\n",
              " '04/01/23, 8:19\\u202fpm - Rahul: Tha\\n',\n",
              " '04/01/23, 8:19\\u202fpm - Rahul: I joined\\n',\n",
              " '04/01/23, 8:19\\u202fpm - Rahul: <Media omitted>\\n',\n",
              " '04/01/23, 8:21\\u202fpm - Nithin Cit: <Media omitted>\\n',\n",
              " '04/01/23, 8:21\\u202fpm - Nithin Cit: Left ayidu da pathukalam\\n',\n",
              " '04/01/23, 8:48\\u202fpm - Rahul: Cod vaa\\n',\n",
              " '04/01/23, 8:48\\u202fpm - Nithin Cit: Macha 10 min\\n',\n",
              " '04/01/23, 8:48\\u202fpm - Nithin Cit: Having dinner\\n',\n",
              " '04/01/23, 8:49\\u202fpm - Rahul: Ok\\n',\n",
              " '05/01/23, 9:13\\u202fam - Rahul: 140 briyani kasu tarala\\n',\n",
              " '05/01/23, 9:23\\u202fam - Nithin Cit: Ena cash🤨\\n',\n",
              " '05/01/23, 9:24\\u202fam - Nithin Cit: <Media omitted>\\n',\n",
              " '05/01/23, 9:24\\u202fam - Rahul: naa just emathura da\\n',\n",
              " '05/01/23, 9:24\\u202fam - Rahul: apo nee vantha 2k taranum\\n',\n",
              " '05/01/23, 9:24\\u202fam - Rahul: athaa kudu\\n',\n",
              " '05/01/23, 9:28\\u202fam - Nithin Cit: <Media omitted>\\n',\n",
              " '05/01/23, 12:16\\u202fpm - Rahul: Dai\\n',\n",
              " '05/01/23, 12:17\\u202fpm - Rahul: Lunch epo\\n',\n",
              " '05/01/23, 12:30\\u202fpm - Nithin Cit: Macha 12:55 kita dq\\n',\n",
              " '05/01/23, 12:31\\u202fpm - Nithin Cit: Hod meet pannanum ah \\n',\n",
              " '10 min late agum\\n',\n",
              " '05/01/23, 12:39\\u202fpm - Rahul: Everyone ah\\n',\n",
              " '05/01/23, 12:44\\u202fpm - Nithin Cit: S da\\n',\n",
              " '05/01/23, 12:49\\u202fpm - Rahul: Came?\\n',\n",
              " '05/01/23, 12:49\\u202fpm - Nithin Cit: Bt yet\\n',\n",
              " '05/01/23, 12:49\\u202fpm - Nithin Cit: Nt yet\\n',\n",
              " '05/01/23, 1:03\\u202fpm - Nithin Cit: Still in class da\\n',\n",
              " '05/01/23, 7:28\\u202fpm - Rahul: <Media omitted>\\n',\n",
              " '05/01/23, 8:13\\u202fpm - Rahul: <Media omitted>\\n',\n",
              " '05/01/23, 8:13\\u202fpm - Rahul: Ena bro panrathu ivala\\n',\n",
              " '05/01/23, 8:14\\u202fpm - Rahul: Romba pavama iruku\\n',\n",
              " '05/01/23, 8:14\\u202fpm - Rahul: Nee vena avala love panikoo naa intro kudukura\\n',\n",
              " \"05/01/23, 8:30\\u202fpm - Nithin Cit: She's in love with u da 😀\\n\",\n",
              " '05/01/23, 8:30\\u202fpm - Nithin Cit: Ayo vena macha. \\n',\n",
              " 'Past 😅\\n',\n",
              " '05/01/23, 8:31\\u202fpm - Rahul: <Media omitted>\\n',\n",
              " '06/01/23, 10:32\\u202fam - Nithin Cit: Macha\\n',\n",
              " '06/01/23, 10:32\\u202fam - Nithin Cit: Inniku ethachum event eruka ?\\n',\n",
              " '06/01/23, 10:33\\u202fam - Rahul: Dai\\n',\n",
              " '06/01/23, 10:33\\u202fam - Rahul: Kadupa iruku da\\n',\n",
              " '06/01/23, 10:33\\u202fam - Nithin Cit: Y da\\n',\n",
              " '06/01/23, 10:33\\u202fam - Rahul: Sh2 la iruka\\n',\n",
              " '06/01/23, 10:33\\u202fam - Nithin Cit: Ohoo\\n',\n",
              " '06/01/23, 10:33\\u202fam - Nithin Cit: Aa ethuku\\n',\n",
              " '06/01/23, 11:50\\u202fam - Nithin Cit: Bro ena nadakathu angey\\n',\n",
              " '06/01/23, 12:20\\u202fpm - Rahul: Complete\\n',\n",
              " '06/01/23, 2:30\\u202fpm - Rahul: Good morning\\n',\n",
              " '06/01/23, 2:41\\u202fpm - Nithin Cit: Good Night\\n',\n",
              " '06/01/23, 6:28\\u202fpm - Rahul: <Media omitted>\\n',\n",
              " '06/01/23, 6:28\\u202fpm - Rahul: <Media omitted>\\n',\n",
              " '06/01/23, 6:31\\u202fpm - Nithin Cit: Ohhh Kk da\\n',\n",
              " '06/01/23, 6:43\\u202fpm - Rahul: <Media omitted>\\n',\n",
              " '06/01/23, 6:43\\u202fpm - Rahul: <Media omitted>\\n',\n",
              " '06/01/23, 6:53\\u202fpm - Nithin Cit: 🤣🤣🤣\\n',\n",
              " '06/01/23, 6:53\\u202fpm - Nithin Cit: Fun da\\n',\n",
              " '06/01/23, 6:53\\u202fpm - Nithin Cit: Dai\\n',\n",
              " '06/01/23, 6:53\\u202fpm - Nithin Cit: Ama en frnd..\\n',\n",
              " '06/01/23, 6:53\\u202fpm - Nithin Cit: Oru msg pana nxt day the reply pannuva da\\n',\n",
              " '06/01/23, 6:54\\u202fpm - Nithin Cit: Avalku interest ile da\\n',\n",
              " '06/01/23, 6:54\\u202fpm - Nithin Cit: Vittidu\\n',\n",
              " '06/01/23, 6:55\\u202fpm - Rahul: Hmm\\n',\n",
              " '06/01/23, 6:55\\u202fpm - Nithin Cit: O**a dai\\n',\n",
              " '06/01/23, 6:55\\u202fpm - Nithin Cit: Vittiku poyita la\\n',\n",
              " '06/01/23, 6:55\\u202fpm - Nithin Cit: <Media omitted>\\n',\n",
              " '06/01/23, 6:56\\u202fpm - Nithin Cit: To myself.!\\n',\n",
              " '06/01/23, 6:56\\u202fpm - Rahul: Eeee\\n',\n",
              " '06/01/23, 7:02\\u202fpm - Nithin Cit: Poda dashey\\n',\n",
              " '07/01/23, 11:12\\u202fam - Rahul: Dai\\n',\n",
              " '07/01/23, 11:38\\u202fam - Nithin Cit: Yea da\\n',\n",
              " '07/01/23, 10:19\\u202fpm - Nithin Cit: Brooo\\n',\n",
              " '07/01/23, 10:19\\u202fpm - Nithin Cit: Machaaa\\n',\n",
              " '07/01/23, 10:19\\u202fpm - Nithin Cit: Slept ah\\n',\n",
              " '07/01/23, 10:19\\u202fpm - Nithin Cit: Urgent da\\n',\n",
              " '07/01/23, 10:19\\u202fpm - Nithin Cit: Dai\\n',\n",
              " '07/01/23, 10:19\\u202fpm - Nithin Cit: R u there\\n',\n",
              " '07/01/23, 10:19\\u202fpm - Nithin Cit: Hello\\n',\n",
              " '07/01/23, 10:19\\u202fpm - Nithin Cit: Rahull\\n',\n",
              " '07/01/23, 10:19\\u202fpm - Rahul: Amount??\\n',\n",
              " '07/01/23, 10:20\\u202fpm - Nithin Cit: Yeaa\\n',\n",
              " '07/01/23, 10:20\\u202fpm - Nithin Cit: Da\\n',\n",
              " '07/01/23, 10:20\\u202fpm - Nithin Cit: Inniku tha bro due date\\n',\n",
              " '07/01/23, 10:20\\u202fpm - Rahul: Okok\\n',\n",
              " '07/01/23, 10:20\\u202fpm - Rahul: Done\\n',\n",
              " '07/01/23, 10:20\\u202fpm - Rahul: Good night\\n',\n",
              " '07/01/23, 10:21\\u202fpm - Rahul: Dnd!\\n',\n",
              " '07/01/23, 10:26\\u202fpm - Nithin Cit: copy\\n',\n",
              " '07/01/23, 10:26\\u202fpm - Nithin Cit: thank u dude\\n',\n",
              " '08/01/23, 9:18\\u202fpm - Nithin Cit: pair programming ( Nave Given in this )\\n',\n",
              " 'debugging\\n',\n",
              " '\\n',\n",
              " 'or \\n',\n",
              " 'gaming in COD\\n',\n",
              " '09/01/23, 7:29\\u202fam - Rahul: You deleted this message\\n',\n",
              " '09/01/23, 9:34\\u202fam - Rahul: Break?\\n',\n",
              " '09/01/23, 9:38\\u202fam - Nithin Cit: 10:15\\n',\n",
              " '09/01/23, 11:19\\u202fam - Rahul: Ok\\n',\n",
              " '09/01/23, 11:49\\u202fam - Nithin Cit: Lunch at 12:45\\n',\n",
              " '09/01/23, 11:50\\u202fam - Rahul: Copy that\\n',\n",
              " '10/01/23, 8:00\\u202fpm - Nithin Cit: Cod variya da\\n',\n",
              " '10/01/23, 8:09\\u202fpm - Rahul: Happy bto\\n',\n",
              " '10/01/23, 8:09\\u202fpm - Rahul: Bro\\n',\n",
              " '10/01/23, 8:09\\u202fpm - Rahul: <Media omitted>\\n',\n",
              " '10/01/23, 8:10\\u202fpm - Nithin Cit: Good\\n',\n",
              " '10/01/23, 8:10\\u202fpm - Nithin Cit: Vada\\n',\n",
              " '10/01/23, 8:30\\u202fpm - Rahul: 😍\\n']"
            ]
          },
          "metadata": {},
          "execution_count": 28
        }
      ]
    },
    {
      "cell_type": "code",
      "source": [
        "# FOUND ON GITHUB: https://gist.github.com/kwcooper/a21ba58272d3cdf26310cc02ee4b168f\n",
        "# parse text, create list of lists structure & remove first whatsapp info message\n",
        "dataset = data[1:]\n",
        "cleaned_data = []\n",
        "for line in dataset:\n",
        "    # Check, whether it is a new line or not\n",
        "    # If the following characters are in the line -> assumption it is NOT a new line\n",
        "    if '/' in line and ':' in line and ',' in line and '-' in line:\n",
        "        # grab the info and cut it out\n",
        "        date = line.split(\",\")[0]\n",
        "        line2 = line[len(date):]\n",
        "        time = line2.split(\"-\")[0][2:]\n",
        "        line3 = line2[len(time):]\n",
        "        name = line3.split(\":\")[0][4:]\n",
        "        line4 = line3[len(name):]\n",
        "        message = line4[6:-1] # strip newline charactor\n",
        "        cleaned_data.append([date, time, name, message])\n",
        "\n",
        "    # else, assumption -> new line. Append new line to previous 'message'\n",
        "    else:\n",
        "        new = cleaned_data[-1][-1] + \" \" + line\n",
        "        cleaned_data[-1][-1] = new\n"
      ],
      "metadata": {
        "id": "gvM7SDY2EZsL"
      },
      "execution_count": null,
      "outputs": []
    },
    {
      "cell_type": "code",
      "source": [
        "\n",
        "# Create the DataFrame\n",
        "df = pd.DataFrame(cleaned_data, columns = ['Date', 'Time', 'Name', 'Message'])\n",
        "\n"
      ],
      "metadata": {
        "id": "jOXHHEV_Irns"
      },
      "execution_count": null,
      "outputs": []
    },
    {
      "cell_type": "code",
      "source": [
        "# Save it!\n",
        "df.to_excel('chat_history.xlsx', index=False)"
      ],
      "metadata": {
        "id": "Bm-vp5-lItVx"
      },
      "execution_count": null,
      "outputs": []
    }
  ]
}